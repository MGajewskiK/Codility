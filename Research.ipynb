{
 "cells": [
  {
   "cell_type": "markdown",
   "metadata": {},
   "source": [
    "# Zadanie 1"
   ]
  },
  {
   "cell_type": "code",
   "execution_count": 14,
   "metadata": {},
   "outputs": [],
   "source": [
    "def quicksort(array):\n",
    "    \n",
    "    if len(array) == 0:\n",
    "        return array\n",
    "    \n",
    "    array_1 = []\n",
    "    array_git push -u origin mastergit push -u origin master2 = []\n",
    "    array_3 = []\n",
    "    \n",
    "    for i in array:\n",
    "\n",
    "        if i > array[len(array)//2]:\n",
    "            array_1.append(i)\n",
    "        elif i == array[len(array)//2]:\n",
    "            array_2.append(i)\n",
    "        else:\n",
    "            array_3.append(i)\n",
    "            \n",
    "    \n",
    "    array = quicksort(array_1) + array_2 + quicksort(array_3)\n",
    "    return array\n"
   ]
  },
  {
   "cell_type": "code",
   "execution_count": 15,
   "metadata": {},
   "outputs": [
    {
     "data": {
      "text/plain": [
       "8776444321"
      ]
     },
     "execution_count": 15,
     "metadata": {},
     "output_type": "execute_result"
    }
   ],
   "source": [
    "lst = 2147483647\n",
    "digits = [i for i in str(lst)]\n",
    "\n",
    "int(''.join(quicksort(digits)))\n",
    "\n"
   ]
  },
  {
   "cell_type": "code",
   "execution_count": 102,
   "metadata": {},
   "outputs": [],
   "source": [
    "def solution_1(N):\n",
    "    \n",
    "    def quicksort(array):\n",
    "    \n",
    "        if len(array) == 0:\n",
    "            return array\n",
    "\n",
    "        front = []\n",
    "        center = []\n",
    "        back = []\n",
    "\n",
    "        for i in array:\n",
    "            if i > array[len(array)//2]:\n",
    "                front.append(i)\n",
    "            elif i == array[len(array)//2]:\n",
    "                center.append(i)\n",
    "            else:\n",
    "                back.append(i)\n",
    "\n",
    "        return quicksort(front) + center + quicksort(back)\n",
    "\n",
    "    \n",
    "    result = int(''.join(quicksort([i for i in str(N)])))\n",
    "    \n",
    "    return -1 if result > 100000000 else result"
   ]
  },
  {
   "cell_type": "code",
   "execution_count": 103,
   "metadata": {},
   "outputs": [
    {
     "name": "stdout",
     "output_type": "stream",
     "text": [
      "8.86 µs ± 761 ns per loop (mean ± std. dev. of 7 runs, 100000 loops each)\n"
     ]
    }
   ],
   "source": [
    "%%timeit\n",
    "solution_1(2147483647)"
   ]
  },
  {
   "cell_type": "code",
   "execution_count": 104,
   "metadata": {},
   "outputs": [],
   "source": [
    "def solution_2(A):\n",
    "    numbers = [i for i in str(A)]\n",
    "    numbers.sort(reverse=True)\n",
    "    return int(''.join(numbers))"
   ]
  },
  {
   "cell_type": "code",
   "execution_count": 105,
   "metadata": {},
   "outputs": [
    {
     "name": "stdout",
     "output_type": "stream",
     "text": [
      "1.08 µs ± 103 ns per loop (mean ± std. dev. of 7 runs, 1000000 loops each)\n"
     ]
    }
   ],
   "source": [
    "%%timeit\n",
    "solution_2(2147483647)"
   ]
  },
  {
   "cell_type": "code",
   "execution_count": 106,
   "metadata": {},
   "outputs": [],
   "source": [
    "def solution_3(A):\n",
    "    return int(''.join(sorted([i for i in str(A)], reverse=True)))"
   ]
  },
  {
   "cell_type": "code",
   "execution_count": 107,
   "metadata": {},
   "outputs": [
    {
     "name": "stdout",
     "output_type": "stream",
     "text": [
      "1.08 µs ± 54.4 ns per loop (mean ± std. dev. of 7 runs, 1000000 loops each)\n"
     ]
    }
   ],
   "source": [
    "%%timeit\n",
    "solution_3(2147483647)"
   ]
  },
  {
   "cell_type": "markdown",
   "metadata": {},
   "source": [
    "# Zadanie 2"
   ]
  },
  {
   "cell_type": "code",
   "execution_count": 25,
   "metadata": {},
   "outputs": [
    {
     "data": {
      "text/plain": [
       "'0b11100'"
      ]
     },
     "execution_count": 25,
     "metadata": {},
     "output_type": "execute_result"
    }
   ],
   "source": [
    "bin(28)"
   ]
  },
  {
   "cell_type": "code",
   "execution_count": 38,
   "metadata": {},
   "outputs": [
    {
     "data": {
      "text/plain": [
       "'11100'"
      ]
     },
     "execution_count": 38,
     "metadata": {},
     "output_type": "execute_result"
    }
   ],
   "source": [
    "bin(28).replace(\"0b\",\"\") \n"
   ]
  },
  {
   "cell_type": "code",
   "execution_count": 44,
   "metadata": {},
   "outputs": [
    {
     "data": {
      "text/plain": [
       "28"
      ]
     },
     "execution_count": 44,
     "metadata": {},
     "output_type": "execute_result"
    }
   ],
   "source": [
    "int(0b11100)"
   ]
  },
  {
   "cell_type": "code",
   "execution_count": 54,
   "metadata": {},
   "outputs": [
    {
     "data": {
      "text/plain": [
       "28"
      ]
     },
     "execution_count": 54,
     "metadata": {},
     "output_type": "execute_result"
    }
   ],
   "source": [
    "int(0b11100)"
   ]
  },
  {
   "cell_type": "code",
   "execution_count": 110,
   "metadata": {},
   "outputs": [],
   "source": [
    "def solution_1(string_binary):\n",
    "    # remove leading zeros\n",
    "    normalized = string_binary.lstrip('0')\n",
    "    if len(normalized) == 0:\n",
    "        return 0\n",
    "    \n",
    "    if normalized[-1] == '0':\n",
    "        # division right bit shift\n",
    "        return solution(normalized[:-1]) + 1\n",
    "    \n",
    "    else:\n",
    "        # subtraction 0 at the last bit\n",
    "        return solution(normalized[:-1] + '0') + 1"
   ]
  },
  {
   "cell_type": "code",
   "execution_count": 111,
   "metadata": {},
   "outputs": [
    {
     "name": "stdout",
     "output_type": "stream",
     "text": [
      "1.08 µs ± 1.84 ns per loop (mean ± std. dev. of 7 runs, 1000000 loops each)\n"
     ]
    }
   ],
   "source": [
    "%%timeit\n",
    "solution_1('011100')"
   ]
  },
  {
   "cell_type": "code",
   "execution_count": 112,
   "metadata": {},
   "outputs": [],
   "source": [
    "def modify(value, count):\n",
    "    if value == 0:\n",
    "        return count\n",
    "    return modify(value-1, count+1) if value % 2 == 1 else modify(value//2, count+1)"
   ]
  },
  {
   "cell_type": "code",
   "execution_count": 113,
   "metadata": {},
   "outputs": [],
   "source": [
    "def solution_2(string):\n",
    "    return modify(int(string,2),0)"
   ]
  },
  {
   "cell_type": "code",
   "execution_count": 114,
   "metadata": {},
   "outputs": [
    {
     "name": "stdout",
     "output_type": "stream",
     "text": [
      "973 ns ± 2.18 ns per loop (mean ± std. dev. of 7 runs, 1000000 loops each)\n"
     ]
    }
   ],
   "source": [
    "%%timeit\n",
    "solution_2('011100')"
   ]
  },
  {
   "cell_type": "markdown",
   "metadata": {},
   "source": [
    "# Zadanie 4"
   ]
  },
  {
   "cell_type": "code",
   "execution_count": 82,
   "metadata": {},
   "outputs": [],
   "source": [
    "## Źle\n",
    "\n",
    "from collections import Counter\n",
    "import math\n",
    "\n",
    "\n",
    "def solution(input_array):\n",
    "    \n",
    "    # count occurences:\n",
    "    counts = Counter(input_array)\n",
    "    identical_pairs = 0\n",
    "    \n",
    "    for key, occurence_count in counts.items():\n",
    "        identical_pairs += math.factorial(occurence_count - 1)\n",
    "        \n",
    "    return 1000000000 if identical_pairs > 1000000000 else identical_pairs"
   ]
  },
  {
   "cell_type": "code",
   "execution_count": 83,
   "metadata": {},
   "outputs": [
    {
     "data": {
      "text/plain": [
       "4"
      ]
     },
     "execution_count": 83,
     "metadata": {},
     "output_type": "execute_result"
    }
   ],
   "source": [
    "solution([3, 5, 6, 3, 3, 5])"
   ]
  },
  {
   "cell_type": "code",
   "execution_count": 84,
   "metadata": {},
   "outputs": [
    {
     "data": {
      "text/plain": [
       "7"
      ]
     },
     "execution_count": 84,
     "metadata": {},
     "output_type": "execute_result"
    }
   ],
   "source": [
    "solution([-100000000, 100000000, -1000000000, 1000000000, 3, 4, 5, 4, 3])"
   ]
  },
  {
   "cell_type": "code",
   "execution_count": 91,
   "metadata": {},
   "outputs": [],
   "source": [
    "## dobrze\n",
    "\n",
    "def pairs_on_occurence(occurence_no):\n",
    "    '''\n",
    "    1   2   3   4   n\n",
    "    a0  a0  a0  a0  a0\n",
    "    first can 'choose' out of n-1 other values\n",
    "    second can 'choose' out of n-2 other values\n",
    "    etc.\n",
    "    \n",
    "    overall number of pairs is equal to\n",
    "    n-1 + n-2 + n-3 + ... + 1 = (n-1)*n/2\n",
    "    \n",
    "    '''\n",
    "    \n",
    "    return occurence_no * (occurence_no - 1) / 2"
   ]
  },
  {
   "cell_type": "code",
   "execution_count": 92,
   "metadata": {},
   "outputs": [],
   "source": [
    "def solution(input_array):\n",
    "    \n",
    "    # count occurences:\n",
    "    counts = Counter(input_array)\n",
    "    identical_pairs = 0\n",
    "    for i, occurence_count in counts.items():\n",
    "        identical_pairs += pairs_on_occurence(occurence_count)\n",
    "        \n",
    "    return identical_pairs"
   ]
  },
  {
   "cell_type": "code",
   "execution_count": 95,
   "metadata": {},
   "outputs": [
    {
     "name": "stdout",
     "output_type": "stream",
     "text": [
      "2.14 µs ± 17.4 ns per loop (mean ± std. dev. of 7 runs, 100000 loops each)\n"
     ]
    }
   ],
   "source": [
    "%%timeit\n",
    "solution([3, 5, 6, 3, 3, 5])"
   ]
  },
  {
   "cell_type": "code",
   "execution_count": 94,
   "metadata": {},
   "outputs": [
    {
     "data": {
      "text/plain": [
       "2.0"
      ]
     },
     "execution_count": 94,
     "metadata": {},
     "output_type": "execute_result"
    }
   ],
   "source": [
    "solution([-100000000, 100000000, -1000000000, 1000000000, 3, 4, 5, 4, 3])"
   ]
  },
  {
   "cell_type": "code",
   "execution_count": null,
   "metadata": {},
   "outputs": [],
   "source": []
  }
 ],
 "metadata": {
  "kernelspec": {
   "display_name": "Python 3",
   "language": "python",
   "name": "python3"
  },
  "language_info": {
   "codemirror_mode": {
    "name": "ipython",
    "version": 3
   },
   "file_extension": ".py",
   "mimetype": "text/x-python",
   "name": "python",
   "nbconvert_exporter": "python",
   "pygments_lexer": "ipython3",
   "version": "3.7.3"
  }
 },
 "nbformat": 4,
 "nbformat_minor": 2
}
